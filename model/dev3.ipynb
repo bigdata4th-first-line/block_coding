{
 "cells": [
  {
   "cell_type": "code",
   "execution_count": 10,
   "metadata": {},
   "outputs": [],
   "source": [
    "import matplotlib.pyplot as plt\n",
    "import cv2\n",
    "import random\n",
    "import numpy as np"
   ]
  },
  {
   "cell_type": "code",
   "execution_count": 25,
   "metadata": {},
   "outputs": [],
   "source": [
    "arrow_test = cv2.imread('./images/train/r1.jpg')"
   ]
  },
  {
   "cell_type": "code",
   "execution_count": 26,
   "metadata": {},
   "outputs": [],
   "source": [
    "output_img_36 = cv2.resize(arrow_test, (48, 48), interpolation = cv2.INTER_AREA)"
   ]
  },
  {
   "cell_type": "code",
   "execution_count": 27,
   "metadata": {},
   "outputs": [
    {
     "data": {
      "text/plain": [
       "<matplotlib.image.AxesImage at 0x1da8bc9b0a0>"
      ]
     },
     "execution_count": 27,
     "metadata": {},
     "output_type": "execute_result"
    },
    {
     "data": {
      "image/png": "[encoded data removed]",
      "text/plain": [
       "<Figure size 640x480 with 1 Axes>"
      ]
     },
     "metadata": {},
     "output_type": "display_data"
    }
   ],
   "source": [
    "plt.imshow(output_img_36)"
   ]
  },
  {
   "cell_type": "code",
   "execution_count": 70,
   "metadata": {},
   "outputs": [],
   "source": [
    "def make_image(crop_img2):\n",
    "    (cX, cY) = (24, 24)\n",
    "    \n",
    "    # -15 ~ 15 범위 무작위 회전\n",
    "    M = cv2.getRotationMatrix2D((cX, cY), random.randint(-15, 15), 1.0)\n",
    "    rotated_45 = cv2.warpAffine(crop_img2, M, (48, 48))\n",
    "    \n",
    "    # -2 ~ 2 범위 무작위 이동\n",
    "    M = np.float32([[1, 0, random.randint(-2, 2)], \n",
    "                    [0, 1, random.randint(-2, 2)]])\n",
    "    shifted = cv2.warpAffine(rotated_45, M, (rotated_45.shape[1], rotated_45.shape[0]))\n",
    "\n",
    "    # 그레이 스케일 및 이진화\n",
    "    gray_img = cv2.cvtColor(shifted, cv2.COLOR_BGR2GRAY)\n",
    "    ret, th1 = cv2.threshold(gray_img, 150, 255, cv2.THRESH_BINARY)\n",
    "    return th1\n",
    "    "
   ]
  },
  {
   "cell_type": "code",
   "execution_count": 29,
   "metadata": {},
   "outputs": [],
   "source": [
    "gimg_list = []"
   ]
  },
  {
   "cell_type": "code",
   "execution_count": 30,
   "metadata": {},
   "outputs": [],
   "source": [
    "for i in range(40000):\n",
    "    test_img = cv2.imread('./images/train/d1.jpg')\n",
    "    \n",
    "    out = test_img.copy()\n",
    "    out = 255 - out\n",
    "    \n",
    "    # 48 x 48\n",
    "    output_img_48 = cv2.resize(out, (48, 48), interpolation = cv2.INTER_AREA)\n",
    "    \n",
    "    # 1배 ~ 1.2 배 무작위 확대\n",
    "    mul = random.uniform(1.0, 1.2)\n",
    "    dst2 = cv2.resize(output_img_48, None,  None, mul, mul, cv2.INTER_CUBIC)\n",
    "    height, width = dst2.shape[:2]\n",
    "    half_h, half_w = int(height / 2), int(width / 2)\n",
    "    crop_img2 = dst2[half_h-24:half_h+24, half_w-24:half_w+24]\n",
    "    \n",
    "    if i < 10000:\n",
    "        th1 = make_image(crop_img2)\n",
    "        gimg_list.append(th1)\n",
    "    elif i < 20000:\n",
    "        M = cv2.getRotationMatrix2D((24, 24), 90, 1.0)\n",
    "        rotated_90 = cv2.warpAffine(crop_img2, M, (48, 48))\n",
    "        th1 = make_image(rotated_90)\n",
    "        gimg_list.append(th1)\n",
    "    elif i < 30000:\n",
    "        M = cv2.getRotationMatrix2D((24, 24), 180, 1.0)\n",
    "        rotated_180 = cv2.warpAffine(crop_img2, M, (48, 48))\n",
    "        th1 = make_image(rotated_180)\n",
    "        gimg_list.append(th1)\n",
    "    elif i < 40000:\n",
    "        M = cv2.getRotationMatrix2D((24, 24), 270, 1.0)\n",
    "        rotated_270 = cv2.warpAffine(crop_img2, M, (48, 48))\n",
    "        th1 = make_image(rotated_270)\n",
    "        gimg_list.append(th1)"
   ]
  },
  {
   "cell_type": "code",
   "execution_count": 63,
   "metadata": {},
   "outputs": [],
   "source": [
    "gimg_list = []"
   ]
  },
  {
   "cell_type": "code",
   "execution_count": 85,
   "metadata": {},
   "outputs": [],
   "source": [
    "# 숫자 이미지\n",
    "\n",
    "for i in range(10000):\n",
    "    test_img = cv2.imread('./images/train/five3.jpg')\n",
    "    \n",
    "    out = test_img.copy()\n",
    "    out = 255 - out\n",
    "    \n",
    "    # 48 x 48\n",
    "    output_img_48 = cv2.resize(out, (48, 48), interpolation = cv2.INTER_AREA)\n",
    "\n",
    "    th1 = make_image(output_img_48)\n",
    "    gimg_list.append(th1)"
   ]
  },
  {
   "cell_type": "code",
   "execution_count": 79,
   "metadata": {},
   "outputs": [],
   "source": [
    "# gimg_list = gimg_list[:10000]"
   ]
  },
  {
   "cell_type": "code",
   "execution_count": 86,
   "metadata": {},
   "outputs": [
    {
     "name": "stdout",
     "output_type": "stream",
     "text": [
      "[[0 0 0 ... 0 0 0]\n",
      " [0 0 0 ... 0 0 0]\n",
      " [0 0 0 ... 0 0 0]\n",
      " ...\n",
      " [0 0 0 ... 0 0 0]\n",
      " [0 0 0 ... 0 0 0]\n",
      " [0 0 0 ... 0 0 0]]\n"
     ]
    },
    {
     "data": {
      "image/png": "[encoded data removed]",
      "text/plain": [
       "<Figure size 640x480 with 1 Axes>"
      ]
     },
     "metadata": {},
     "output_type": "display_data"
    }
   ],
   "source": [
    "plt.imshow(gimg_list[79999])\n",
    "print(gimg_list[79999])"
   ]
  },
  {
   "cell_type": "code",
   "execution_count": 87,
   "metadata": {},
   "outputs": [],
   "source": [
    "arrow_img_array = np.array(gimg_list)"
   ]
  },
  {
   "cell_type": "code",
   "execution_count": 88,
   "metadata": {},
   "outputs": [
    {
     "data": {
      "text/plain": [
       "(80000, 48, 48)"
      ]
     },
     "execution_count": 88,
     "metadata": {},
     "output_type": "execute_result"
    }
   ],
   "source": [
    "arrow_img_array.shape"
   ]
  },
  {
   "cell_type": "code",
   "execution_count": 38,
   "metadata": {},
   "outputs": [],
   "source": [
    "y_list = []\n",
    "\n",
    "\n",
    "for i in range(40000):\n",
    "    if i < 10000:\n",
    "        y_list.append('d')\n",
    "        \n",
    "    elif i < 20000:\n",
    "        y_list.append('r')\n",
    "        \n",
    "    elif i < 30000:\n",
    "        y_list.append('u')\n",
    "        \n",
    "    elif i < 40000:\n",
    "        y_list.append('l')"
   ]
  },
  {
   "cell_type": "code",
   "execution_count": 89,
   "metadata": {},
   "outputs": [],
   "source": [
    "y_list = []\n",
    "\n",
    "for i in range(80000):\n",
    "    if i < 20000:\n",
    "        y_list.append('2')\n",
    "        \n",
    "    elif i < 40000:\n",
    "        y_list.append('3')\n",
    "        \n",
    "    elif i < 60000:\n",
    "        y_list.append('4')\n",
    "        \n",
    "    elif i < 80000:\n",
    "        y_list.append('5')"
   ]
  },
  {
   "cell_type": "code",
   "execution_count": 90,
   "metadata": {},
   "outputs": [],
   "source": [
    "label_array = np.array(y_list)"
   ]
  },
  {
   "cell_type": "code",
   "execution_count": 91,
   "metadata": {},
   "outputs": [
    {
     "data": {
      "text/plain": [
       "(80000,)"
      ]
     },
     "execution_count": 91,
     "metadata": {},
     "output_type": "execute_result"
    }
   ],
   "source": [
    "label_array.shape"
   ]
  },
  {
   "cell_type": "code",
   "execution_count": 92,
   "metadata": {},
   "outputs": [],
   "source": [
    "X_train = arrow_img_array\n",
    "y_train = label_array"
   ]
  },
  {
   "cell_type": "markdown",
   "metadata": {},
   "source": [
    "# Shape"
   ]
  },
  {
   "cell_type": "code",
   "execution_count": 93,
   "metadata": {},
   "outputs": [],
   "source": [
    "from tensorflow.keras.utils import to_categorical\n",
    "from tensorflow.keras.models import Sequential\n",
    "from tensorflow.keras.layers import Dense\n",
    "from keras.models import load_model\n",
    "from tensorflow.keras.callbacks import EarlyStopping, ModelCheckpoint"
   ]
  },
  {
   "cell_type": "code",
   "execution_count": 94,
   "metadata": {},
   "outputs": [],
   "source": [
    "input_shape = X_train.shape[1] * X_train.shape[2]\n",
    "number_of_classes = len(set(y_train))"
   ]
  },
  {
   "cell_type": "code",
   "execution_count": 95,
   "metadata": {},
   "outputs": [],
   "source": [
    "X_train = X_train / 255.0\n",
    "X_train = X_train.reshape(-1, input_shape)"
   ]
  },
  {
   "cell_type": "code",
   "execution_count": 96,
   "metadata": {},
   "outputs": [
    {
     "name": "stdout",
     "output_type": "stream",
     "text": [
      "X_train_shape: (80000, 2304)\n"
     ]
    }
   ],
   "source": [
    "print(f\"X_train_shape: {X_train.shape}\")"
   ]
  },
  {
   "cell_type": "code",
   "execution_count": 97,
   "metadata": {},
   "outputs": [
    {
     "data": {
      "text/html": [
       "<style>#sk-container-id-2 {color: black;background-color: white;}#sk-container-id-2 pre{padding: 0;}#sk-container-id-2 div.sk-toggleable {background-color: white;}#sk-container-id-2 label.sk-toggleable__label {cursor: pointer;display: block;width: 100%;margin-bottom: 0;padding: 0.3em;box-sizing: border-box;text-align: center;}#sk-container-id-2 label.sk-toggleable__label-arrow:before {content: \"▸\";float: left;margin-right: 0.25em;color: #696969;}#sk-container-id-2 label.sk-toggleable__label-arrow:hover:before {color: black;}#sk-container-id-2 div.sk-estimator:hover label.sk-toggleable__label-arrow:before {color: black;}#sk-container-id-2 div.sk-toggleable__content {max-height: 0;max-width: 0;overflow: hidden;text-align: left;background-color: #f0f8ff;}#sk-container-id-2 div.sk-toggleable__content pre {margin: 0.2em;color: black;border-radius: 0.25em;background-color: #f0f8ff;}#sk-container-id-2 input.sk-toggleable__control:checked~div.sk-toggleable__content {max-height: 200px;max-width: 100%;overflow: auto;}#sk-container-id-2 input.sk-toggleable__control:checked~label.sk-toggleable__label-arrow:before {content: \"▾\";}#sk-container-id-2 div.sk-estimator input.sk-toggleable__control:checked~label.sk-toggleable__label {background-color: #d4ebff;}#sk-container-id-2 div.sk-label input.sk-toggleable__control:checked~label.sk-toggleable__label {background-color: #d4ebff;}#sk-container-id-2 input.sk-hidden--visually {border: 0;clip: rect(1px 1px 1px 1px);clip: rect(1px, 1px, 1px, 1px);height: 1px;margin: -1px;overflow: hidden;padding: 0;position: absolute;width: 1px;}#sk-container-id-2 div.sk-estimator {font-family: monospace;background-color: #f0f8ff;border: 1px dotted black;border-radius: 0.25em;box-sizing: border-box;margin-bottom: 0.5em;}#sk-container-id-2 div.sk-estimator:hover {background-color: #d4ebff;}#sk-container-id-2 div.sk-parallel-item::after {content: \"\";width: 100%;border-bottom: 1px solid gray;flex-grow: 1;}#sk-container-id-2 div.sk-label:hover label.sk-toggleable__label {background-color: #d4ebff;}#sk-container-id-2 div.sk-serial::before {content: \"\";position: absolute;border-left: 1px solid gray;box-sizing: border-box;top: 0;bottom: 0;left: 50%;z-index: 0;}#sk-container-id-2 div.sk-serial {display: flex;flex-direction: column;align-items: center;background-color: white;padding-right: 0.2em;padding-left: 0.2em;position: relative;}#sk-container-id-2 div.sk-item {position: relative;z-index: 1;}#sk-container-id-2 div.sk-parallel {display: flex;align-items: stretch;justify-content: center;background-color: white;position: relative;}#sk-container-id-2 div.sk-item::before, #sk-container-id-2 div.sk-parallel-item::before {content: \"\";position: absolute;border-left: 1px solid gray;box-sizing: border-box;top: 0;bottom: 0;left: 50%;z-index: -1;}#sk-container-id-2 div.sk-parallel-item {display: flex;flex-direction: column;z-index: 1;position: relative;background-color: white;}#sk-container-id-2 div.sk-parallel-item:first-child::after {align-self: flex-end;width: 50%;}#sk-container-id-2 div.sk-parallel-item:last-child::after {align-self: flex-start;width: 50%;}#sk-container-id-2 div.sk-parallel-item:only-child::after {width: 0;}#sk-container-id-2 div.sk-dashed-wrapped {border: 1px dashed gray;margin: 0 0.4em 0.5em 0.4em;box-sizing: border-box;padding-bottom: 0.4em;background-color: white;}#sk-container-id-2 div.sk-label label {font-family: monospace;font-weight: bold;display: inline-block;line-height: 1.2em;}#sk-container-id-2 div.sk-label-container {text-align: center;}#sk-container-id-2 div.sk-container {/* jupyter's `normalize.less` sets `[hidden] { display: none; }` but bootstrap.min.css set `[hidden] { display: none !important; }` so we also need the `!important` here to be able to override the default hidden behavior on the sphinx rendered scikit-learn.org. See: https://github.com/scikit-learn/scikit-learn/issues/21755 */display: inline-block !important;position: relative;}#sk-container-id-2 div.sk-text-repr-fallback {display: none;}</style><div id=\"sk-container-id-2\" class=\"sk-top-container\"><div class=\"sk-text-repr-fallback\"><pre>LabelEncoder()</pre><b>In a Jupyter environment, please rerun this cell to show the HTML representation or trust the notebook. <br />On GitHub, the HTML representation is unable to render, please try loading this page with nbviewer.org.</b></div><div class=\"sk-container\" hidden><div class=\"sk-item\"><div class=\"sk-estimator sk-toggleable\"><input class=\"sk-toggleable__control sk-hidden--visually\" id=\"sk-estimator-id-2\" type=\"checkbox\" checked><label for=\"sk-estimator-id-2\" class=\"sk-toggleable__label sk-toggleable__label-arrow\">LabelEncoder</label><div class=\"sk-toggleable__content\"><pre>LabelEncoder()</pre></div></div></div></div></div>"
      ],
      "text/plain": [
       "LabelEncoder()"
      ]
     },
     "execution_count": 97,
     "metadata": {},
     "output_type": "execute_result"
    }
   ],
   "source": [
    "from sklearn.preprocessing import LabelEncoder\n",
    "\n",
    "encoder = LabelEncoder()\n",
    "\n",
    "encoder.fit(y_train)"
   ]
  },
  {
   "cell_type": "code",
   "execution_count": 103,
   "metadata": {},
   "outputs": [
    {
     "data": {
      "text/plain": [
       "array(['2', '2', '2', ..., '5', '5', '5'], dtype='<U1')"
      ]
     },
     "execution_count": 103,
     "metadata": {},
     "output_type": "execute_result"
    }
   ],
   "source": [
    "y_train"
   ]
  },
  {
   "cell_type": "code",
   "execution_count": 99,
   "metadata": {},
   "outputs": [],
   "source": [
    "labeled_y_train = encoder.transform(y_train)"
   ]
  },
  {
   "cell_type": "code",
   "execution_count": 104,
   "metadata": {},
   "outputs": [
    {
     "data": {
      "text/plain": [
       "array([0, 0, 0, ..., 3, 3, 3])"
      ]
     },
     "execution_count": 104,
     "metadata": {},
     "output_type": "execute_result"
    }
   ],
   "source": [
    "labeled_y_train"
   ]
  },
  {
   "cell_type": "code",
   "execution_count": 105,
   "metadata": {},
   "outputs": [],
   "source": [
    "y_train = to_categorical(labeled_y_train, number_of_classes)  # 원-핫 인코딩. 1차원 -> 2차원"
   ]
  },
  {
   "cell_type": "markdown",
   "metadata": {},
   "source": [
    "# 모델 학습"
   ]
  },
  {
   "cell_type": "code",
   "execution_count": 106,
   "metadata": {},
   "outputs": [],
   "source": [
    "model = Sequential()"
   ]
  },
  {
   "cell_type": "code",
   "execution_count": 107,
   "metadata": {},
   "outputs": [],
   "source": [
    "model.add(Dense(128, activation=\"relu\", input_shape=X_train.shape[1:]))\n",
    "\n",
    "model.add(Dense(y_train.shape[1], activation=\"softmax\"))"
   ]
  },
  {
   "cell_type": "code",
   "execution_count": 108,
   "metadata": {},
   "outputs": [
    {
     "name": "stdout",
     "output_type": "stream",
     "text": [
      "Model: \"sequential_2\"\n",
      "_________________________________________________________________\n",
      " Layer (type)                Output Shape              Param #   \n",
      "=================================================================\n",
      " dense_3 (Dense)             (None, 128)               295040    \n",
      "                                                                 \n",
      " dense_4 (Dense)             (None, 4)                 516       \n",
      "                                                                 \n",
      "=================================================================\n",
      "Total params: 295556 (1.13 MB)\n",
      "Trainable params: 295556 (1.13 MB)\n",
      "Non-trainable params: 0 (0.00 Byte)\n",
      "_________________________________________________________________\n"
     ]
    }
   ],
   "source": [
    "es = EarlyStopping(monitor='val_loss', mode='min', verbose=1, patience=4)\n",
    "mc = ModelCheckpoint('./model/best_model_01.h5', monitor='val_acc', mode='max', verbose=1, save_best_only=True)\n",
    "\n",
    "model.compile(loss=\"categorical_crossentropy\",\n",
    "              optimizer=\"adam\",\n",
    "              metrics=[\"acc\"])\n",
    "\n",
    "model.summary()  # 간단하게 요약해 출력"
   ]
  },
  {
   "cell_type": "code",
   "execution_count": 109,
   "metadata": {},
   "outputs": [
    {
     "name": "stdout",
     "output_type": "stream",
     "text": [
      "Epoch 1/10\n",
      "1989/2000 [============================>.] - ETA: 0s - loss: 0.0018 - acc: 0.9995\n",
      "Epoch 1: val_acc improved from -inf to 1.00000, saving model to ./model\\best_model_01.h5\n",
      "2000/2000 [==============================] - 8s 4ms/step - loss: 0.0018 - acc: 0.9995 - val_loss: 3.9097e-04 - val_acc: 1.0000\n",
      "Epoch 2/10\n",
      "  46/2000 [..............................] - ETA: 6s - loss: 3.2629e-06 - acc: 1.0000"
     ]
    },
    {
     "name": "stderr",
     "output_type": "stream",
     "text": [
      "C:\\Users\\jjun\\AppData\\Roaming\\Python\\Python310\\site-packages\\keras\\src\\engine\\training.py:3000: UserWarning: You are saving your model as an HDF5 file via `model.save()`. This file format is considered legacy. We recommend using instead the native Keras format, e.g. `model.save('my_model.keras')`.\n",
      "  saving_api.save_model(\n"
     ]
    },
    {
     "name": "stdout",
     "output_type": "stream",
     "text": [
      "1997/2000 [============================>.] - ETA: 0s - loss: 1.4832e-06 - acc: 1.0000\n",
      "Epoch 2: val_acc did not improve from 1.00000\n",
      "2000/2000 [==============================] - 7s 4ms/step - loss: 1.4820e-06 - acc: 1.0000 - val_loss: 1.3408e-04 - val_acc: 1.0000\n",
      "Epoch 3/10\n",
      "1996/2000 [============================>.] - ETA: 0s - loss: 3.3824e-07 - acc: 1.0000\n",
      "Epoch 3: val_acc did not improve from 1.00000\n",
      "2000/2000 [==============================] - 7s 4ms/step - loss: 3.3808e-07 - acc: 1.0000 - val_loss: 7.1988e-05 - val_acc: 1.0000\n",
      "Epoch 4/10\n",
      "1992/2000 [============================>.] - ETA: 0s - loss: 9.8370e-08 - acc: 1.0000\n",
      "Epoch 4: val_acc did not improve from 1.00000\n",
      "2000/2000 [==============================] - 7s 4ms/step - loss: 9.8165e-08 - acc: 1.0000 - val_loss: 3.8929e-05 - val_acc: 1.0000\n",
      "Epoch 5/10\n",
      "1995/2000 [============================>.] - ETA: 0s - loss: 3.1098e-08 - acc: 1.0000\n",
      "Epoch 5: val_acc did not improve from 1.00000\n",
      "2000/2000 [==============================] - 7s 4ms/step - loss: 3.1106e-08 - acc: 1.0000 - val_loss: 1.9570e-05 - val_acc: 1.0000\n",
      "Epoch 6/10\n",
      "1987/2000 [============================>.] - ETA: 0s - loss: 1.0180e-08 - acc: 1.0000\n",
      "Epoch 6: val_acc did not improve from 1.00000\n",
      "2000/2000 [==============================] - 7s 4ms/step - loss: 1.0146e-08 - acc: 1.0000 - val_loss: 1.2317e-05 - val_acc: 1.0000\n",
      "Epoch 7/10\n",
      "1991/2000 [============================>.] - ETA: 0s - loss: 3.1976e-09 - acc: 1.0000\n",
      "Epoch 7: val_acc did not improve from 1.00000\n",
      "2000/2000 [==============================] - 7s 4ms/step - loss: 3.1888e-09 - acc: 1.0000 - val_loss: 6.8835e-06 - val_acc: 1.0000\n",
      "Epoch 8/10\n",
      "1994/2000 [============================>.] - ETA: 0s - loss: 1.1359e-09 - acc: 1.0000\n",
      "Epoch 8: val_acc did not improve from 1.00000\n",
      "2000/2000 [==============================] - 7s 4ms/step - loss: 1.1325e-09 - acc: 1.0000 - val_loss: 5.6052e-06 - val_acc: 1.0000\n",
      "Epoch 9/10\n",
      "2000/2000 [==============================] - ETA: 0s - loss: 4.6566e-10 - acc: 1.0000\n",
      "Epoch 9: val_acc did not improve from 1.00000\n",
      "2000/2000 [==============================] - 7s 4ms/step - loss: 4.6566e-10 - acc: 1.0000 - val_loss: 5.0179e-06 - val_acc: 1.0000\n",
      "Epoch 10/10\n",
      "1999/2000 [============================>.] - ETA: 0s - loss: 1.7518e-10 - acc: 1.0000\n",
      "Epoch 10: val_acc did not improve from 1.00000\n",
      "2000/2000 [==============================] - 7s 4ms/step - loss: 1.7509e-10 - acc: 1.0000 - val_loss: 3.4457e-06 - val_acc: 1.0000\n"
     ]
    }
   ],
   "source": [
    "history = model.fit(X_train, y_train, batch_size=32, callbacks=[mc], epochs=10, validation_split=0.2)"
   ]
  },
  {
   "cell_type": "code",
   "execution_count": null,
   "metadata": {},
   "outputs": [],
   "source": []
  }
 ],
 "metadata": {
  "kernelspec": {
   "display_name": "base",
   "language": "python",
   "name": "python3"
  },
  "language_info": {
   "codemirror_mode": {
    "name": "ipython",
    "version": 3
   },
   "file_extension": ".py",
   "mimetype": "text/x-python",
   "name": "python",
   "nbconvert_exporter": "python",
   "pygments_lexer": "ipython3",
   "version": "3.10.9"
  }
 },
 "nbformat": 4,
 "nbformat_minor": 2
}
