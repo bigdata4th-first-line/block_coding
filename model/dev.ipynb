{
 "cells": [
  {
   "cell_type": "code",
   "execution_count": 3,
   "metadata": {},
   "outputs": [
    {
     "name": "stderr",
     "output_type": "stream",
     "text": [
      "\n",
      "0: 640x640 1 2, 1 3, 1 4, 1 5, 4 arrows, 171.5ms\n",
      "Speed: 0.0ms preprocess, 171.5ms inference, 13.7ms postprocess per image at shape (1, 3, 640, 640)\n"
     ]
    },
    {
     "name": "stdout",
     "output_type": "stream",
     "text": [
      "[{'label': 4, 'x1': 431, 'y1': 162, 'x2': 480, 'y2': 209}, {'label': 'down', 'x1': 348, 'y1': 399, 'x2': 390, 'y2': 442}, {'label': 'down', 'x1': 364, 'y1': 156, 'x2': 411, 'y2': 205}, {'label': 'down', 'x1': 351, 'y1': 246, 'x2': 410, 'y2': 278}, {'label': 'down', 'x1': 354, 'y1': 320, 'x2': 398, 'y2': 364}, {'label': 2, 'x1': 411, 'y1': 397, 'x2': 460, 'y2': 447}, {'label': 5, 'x1': 417, 'y1': 322, 'x2': 463, 'y2': 367}, {'label': 3, 'x1': 422, 'y1': 242, 'x2': 470, 'y2': 289}]\n"
     ]
    }
   ],
   "source": [
    "import cv2\n",
    "import numpy as np\n",
    "from ultralytics import YOLO\n",
    "\n",
    "from torchvision import transforms\n",
    "\n",
    "\n",
    "from values import *\n",
    "\n",
    "\n",
    "MODEL = YOLO(\"./model/best_ver3.pt\")\n",
    "\n",
    "\n",
    "# 인식된 개체 정보\n",
    "def inference_image(input_img):\n",
    "    input_img = cv2.resize(input_img, (640, 640))\n",
    "    img = transforms.ToTensor()(input_img).unsqueeze(0)\n",
    "\n",
    "    result = MODEL.predict(img)\n",
    "    boxes = result[0].boxes\n",
    "    boxesn = boxes.xyxy\n",
    "\n",
    "    find_cls = boxes.cls.cpu().detach().numpy()\n",
    "    fin_conf = boxes.conf.cpu().detach().numpy()\n",
    "    \n",
    "    labels_list = []\n",
    "    \n",
    "    for cls,(x1, y1, x2, y2) in zip(find_cls, boxesn):\n",
    "        label_dict = {\n",
    "            'label': CLASS[int(cls)],\n",
    "            'x1': int(x1),\n",
    "            'y1': int(y1),\n",
    "            'x2': int(x2),\n",
    "            'y2': int(y2)\n",
    "        }\n",
    "        labels_list.append(label_dict)\n",
    "    print(labels_list)\n",
    "    return labels_list\n",
    "\n",
    "# 불러오려는 사진\n",
    "img = cv2.imread('./images/osmo12.jpg')\n",
    "labels_list = inference_image(img)"
   ]
  },
  {
   "cell_type": "code",
   "execution_count": 4,
   "metadata": {},
   "outputs": [
    {
     "data": {
      "text/plain": [
       "[{'label': 4, 'x1': 431, 'y1': 162, 'x2': 480, 'y2': 209},\n",
       " {'label': 'down', 'x1': 348, 'y1': 399, 'x2': 390, 'y2': 442},\n",
       " {'label': 'down', 'x1': 364, 'y1': 156, 'x2': 411, 'y2': 205},\n",
       " {'label': 'down', 'x1': 351, 'y1': 246, 'x2': 410, 'y2': 278},\n",
       " {'label': 'down', 'x1': 354, 'y1': 320, 'x2': 398, 'y2': 364},\n",
       " {'label': 2, 'x1': 411, 'y1': 397, 'x2': 460, 'y2': 447},\n",
       " {'label': 5, 'x1': 417, 'y1': 322, 'x2': 463, 'y2': 367},\n",
       " {'label': 3, 'x1': 422, 'y1': 242, 'x2': 470, 'y2': 289}]"
      ]
     },
     "execution_count": 4,
     "metadata": {},
     "output_type": "execute_result"
    }
   ],
   "source": [
    "labels_list"
   ]
  },
  {
   "cell_type": "code",
   "execution_count": 3,
   "metadata": {},
   "outputs": [],
   "source": [
    "import matplotlib.pyplot as plt"
   ]
  },
  {
   "cell_type": "code",
   "execution_count": 4,
   "metadata": {},
   "outputs": [],
   "source": [
    "img = cv2.imread('./images/20231114_152536.jpg')"
   ]
  },
  {
   "cell_type": "code",
   "execution_count": 5,
   "metadata": {},
   "outputs": [
    {
     "data": {
      "text/plain": [
       "array([[[107, 101,  96],\n",
       "        [106, 100,  95],\n",
       "        [106, 100,  95],\n",
       "        ...,\n",
       "        [119, 124, 123],\n",
       "        [117, 122, 121],\n",
       "        [116, 121, 120]],\n",
       "\n",
       "       [[103,  97,  92],\n",
       "        [102,  96,  91],\n",
       "        [102,  96,  91],\n",
       "        ...,\n",
       "        [121, 126, 125],\n",
       "        [120, 125, 124],\n",
       "        [119, 124, 123]],\n",
       "\n",
       "       [[100,  94,  89],\n",
       "        [ 98,  92,  87],\n",
       "        [ 97,  91,  86],\n",
       "        ...,\n",
       "        [124, 129, 128],\n",
       "        [124, 129, 128],\n",
       "        [123, 128, 127]],\n",
       "\n",
       "       ...,\n",
       "\n",
       "       [[184, 179, 180],\n",
       "        [184, 179, 180],\n",
       "        [184, 179, 180],\n",
       "        ...,\n",
       "        [176, 171, 172],\n",
       "        [175, 170, 171],\n",
       "        [174, 169, 170]],\n",
       "\n",
       "       [[184, 179, 180],\n",
       "        [184, 179, 180],\n",
       "        [184, 179, 180],\n",
       "        ...,\n",
       "        [176, 171, 172],\n",
       "        [175, 170, 171],\n",
       "        [174, 169, 170]],\n",
       "\n",
       "       [[184, 179, 180],\n",
       "        [184, 179, 180],\n",
       "        [184, 179, 180],\n",
       "        ...,\n",
       "        [180, 175, 176],\n",
       "        [179, 174, 175],\n",
       "        [178, 173, 174]]], dtype=uint8)"
      ]
     },
     "execution_count": 5,
     "metadata": {},
     "output_type": "execute_result"
    }
   ],
   "source": [
    "img"
   ]
  },
  {
   "cell_type": "code",
   "execution_count": 6,
   "metadata": {},
   "outputs": [
    {
     "data": {
      "text/plain": [
       "<matplotlib.image.AxesImage at 0x1dfb1713b50>"
      ]
     },
     "execution_count": 6,
     "metadata": {},
     "output_type": "execute_result"
    },
    {
     "ename": "",
     "evalue": "",
     "output_type": "error",
     "traceback": [
      "\u001b[1;31mThe Kernel crashed while executing code in the the current cell or a previous cell. Please review the code in the cell(s) to identify a possible cause of the failure. Click <a href='https://aka.ms/vscodeJupyterKernelCrash'>here</a> for more info. View Jupyter <a href='command:jupyter.viewOutput'>log</a> for further details."
     ]
    }
   ],
   "source": [
    "plt.imshow(img)"
   ]
  },
  {
   "cell_type": "code",
   "execution_count": null,
   "metadata": {},
   "outputs": [],
   "source": [
    "crop_img = img[int(labels_list[0]['x1']):int(labels_list[0]['x2']),\n",
    "    int(labels_list[0]['y1']):int(labels_list[0]['y2'])]"
   ]
  },
  {
   "cell_type": "code",
   "execution_count": null,
   "metadata": {},
   "outputs": [],
   "source": []
  },
  {
   "cell_type": "code",
   "execution_count": 35,
   "metadata": {},
   "outputs": [
    {
     "data": {
      "text/plain": [
       "<matplotlib.image.AxesImage at 0x22817fdfc40>"
      ]
     },
     "execution_count": 35,
     "metadata": {},
     "output_type": "execute_result"
    },
    {
     "ename": "",
     "evalue": "",
     "output_type": "error",
     "traceback": [
      "\u001b[1;31mThe Kernel crashed while executing code in the the current cell or a previous cell. Please review the code in the cell(s) to identify a possible cause of the failure. Click <a href='https://aka.ms/vscodeJupyterKernelCrash'>here</a> for more info. View Jupyter <a href='command:jupyter.viewOutput'>log</a> for further details."
     ]
    }
   ],
   "source": [
    "plt.imshow(crop_img)"
   ]
  }
 ],
 "metadata": {
  "kernelspec": {
   "display_name": "base",
   "language": "python",
   "name": "python3"
  },
  "language_info": {
   "codemirror_mode": {
    "name": "ipython",
    "version": 3
   },
   "file_extension": ".py",
   "mimetype": "text/x-python",
   "name": "python",
   "nbconvert_exporter": "python",
   "pygments_lexer": "ipython3",
   "version": "3.10.9"
  }
 },
 "nbformat": 4,
 "nbformat_minor": 2
}
