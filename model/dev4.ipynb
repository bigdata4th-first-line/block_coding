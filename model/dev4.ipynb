{
 "cells": [
  {
   "cell_type": "code",
   "execution_count": 67,
   "metadata": {},
   "outputs": [],
   "source": [
    "import cv2\n",
    "import numpy as np\n",
    "import matplotlib.pyplot as plt\n",
    "\n",
    "import random\n",
    "\n",
    "from keras.models import load_model\n",
    "\n",
    "import warnings\n",
    "warnings.filterwarnings(action='ignore')"
   ]
  },
  {
   "cell_type": "code",
   "execution_count": 68,
   "metadata": {},
   "outputs": [],
   "source": [
    "image_path = './images/osmo10.jpg'"
   ]
  },
  {
   "cell_type": "code",
   "execution_count": 69,
   "metadata": {},
   "outputs": [
    {
     "name": "stderr",
     "output_type": "stream",
     "text": [
      "\n",
      "0: 640x640 1 3, 1 4, 1 5, 3 arrows, 172.9ms\n",
      "Speed: 0.0ms preprocess, 172.9ms inference, 4.0ms postprocess per image at shape (1, 3, 640, 640)\n"
     ]
    },
    {
     "name": "stdout",
     "output_type": "stream",
     "text": [
      "[{'label': 4, 'x1': 418, 'y1': 239, 'x2': 474, 'y2': 288, 'cx': 446, 'cy': 263}, {'label': 5, 'x1': 428, 'y1': 326, 'x2': 483, 'y2': 381, 'cx': 456, 'cy': 353}, {'label': 'down', 'x1': 337, 'y1': 159, 'x2': 383, 'y2': 204, 'cx': 360, 'cy': 181}, {'label': 'down', 'x1': 340, 'y1': 334, 'x2': 410, 'y2': 372, 'cx': 375, 'cy': 353}, {'label': 3, 'x1': 406, 'y1': 161, 'x2': 461, 'y2': 207, 'cx': 433, 'cy': 184}, {'label': 'down', 'x1': 335, 'y1': 246, 'x2': 402, 'y2': 280, 'cx': 369, 'cy': 263}]\n"
     ]
    }
   ],
   "source": [
    "import cv2\n",
    "import numpy as np\n",
    "from ultralytics import YOLO\n",
    "\n",
    "from torchvision import transforms\n",
    "\n",
    "\n",
    "from values import *\n",
    "\n",
    "\n",
    "MODEL = YOLO(\"./model/best_ver3.pt\")\n",
    "\n",
    "\n",
    "# 인식된 개체 정보\n",
    "def inference_image(input_img):\n",
    "    input_img = cv2.resize(input_img, (640, 640))\n",
    "    img = transforms.ToTensor()(input_img).unsqueeze(0)\n",
    "\n",
    "    result = MODEL.predict(img)\n",
    "    boxes = result[0].boxes\n",
    "    boxesn = boxes.xyxy\n",
    "\n",
    "    find_cls = boxes.cls.cpu().detach().numpy()\n",
    "    fin_conf = boxes.conf.cpu().detach().numpy()\n",
    "    \n",
    "    labels_list = []\n",
    "    \n",
    "    for cls,(x1, y1, x2, y2) in zip(find_cls, boxesn):\n",
    "        label_dict = {\n",
    "            'label': CLASS[int(cls)],\n",
    "            'x1': int(x1),\n",
    "            'y1': int(y1),\n",
    "            'x2': int(x2),\n",
    "            'y2': int(y2),\n",
    "            'cx': int((x1+x2)/2),\n",
    "            'cy': int((y1+y2)/2)\n",
    "        }\n",
    "        labels_list.append(label_dict)\n",
    "    print(labels_list)\n",
    "    return labels_list\n",
    "\n",
    "# 불러오려는 사진\n",
    "img = cv2.imread(image_path)\n",
    "labels_list = inference_image(img)"
   ]
  },
  {
   "cell_type": "code",
   "execution_count": 71,
   "metadata": {},
   "outputs": [],
   "source": [
    "sorted_data = sorted(labels_list, key=lambda x: x['cy'])"
   ]
  },
  {
   "cell_type": "code",
   "execution_count": 86,
   "metadata": {},
   "outputs": [],
   "source": [
    "arroow_result_list = []\n",
    "number_result_list = []\n",
    "action_result_list = []"
   ]
  },
  {
   "cell_type": "code",
   "execution_count": 87,
   "metadata": {},
   "outputs": [
    {
     "name": "stdout",
     "output_type": "stream",
     "text": [
      "{'label': 'down', 'x1': 337, 'y1': 159, 'x2': 383, 'y2': 204, 'cx': 360, 'cy': 181}\n",
      "1/1 [==============================] - 0s 26ms/step\n",
      "{'label': 3, 'x1': 406, 'y1': 161, 'x2': 461, 'y2': 207, 'cx': 433, 'cy': 184}\n",
      "1/1 [==============================] - 0s 27ms/step\n",
      "{'label': 4, 'x1': 418, 'y1': 239, 'x2': 474, 'y2': 288, 'cx': 446, 'cy': 263}\n",
      "1/1 [==============================] - 0s 25ms/step\n",
      "{'label': 'down', 'x1': 335, 'y1': 246, 'x2': 402, 'y2': 280, 'cx': 369, 'cy': 263}\n",
      "1/1 [==============================] - 0s 27ms/step\n",
      "{'label': 5, 'x1': 428, 'y1': 326, 'x2': 483, 'y2': 381, 'cx': 456, 'cy': 353}\n",
      "1/1 [==============================] - 0s 26ms/step\n",
      "{'label': 'down', 'x1': 340, 'y1': 334, 'x2': 410, 'y2': 372, 'cx': 375, 'cy': 353}\n",
      "1/1 [==============================] - 0s 27ms/step\n"
     ]
    }
   ],
   "source": [
    "for i in sorted_data:\n",
    "    print(i)\n",
    "    input_img = cv2.imread(image_path)\n",
    "    img = cv2.resize(input_img, (640, 640))\n",
    "\n",
    "    crop_img = img[int(i['y1']):int(i['y2']), \n",
    "                    int(i['x1']):int(i['x2'])]\n",
    "    \n",
    "    out = crop_img.copy()\n",
    "    out = 255 - out\n",
    "    \n",
    "    # 48 x 48\n",
    "    output_img_48 = cv2.resize(out, (48, 48), interpolation = cv2.INTER_AREA)\n",
    "\n",
    "    # 그레이 스케일 및 이진화\n",
    "    gray_img = cv2.cvtColor(output_img_48, cv2.COLOR_BGR2GRAY)\n",
    "    ret, th1 = cv2.threshold(gray_img, 150, 255, cv2.THRESH_BINARY)\n",
    "    \n",
    "    X_test = np.array(th1)\n",
    "    input_shape = 2304\n",
    "    X_test = X_test / 255\n",
    "    X_test = X_test.reshape(-1, input_shape)\n",
    "    \n",
    "    if (i['label'] == 'up') | (i['label'] == 'down') | (i['label'] == 'left') | (i['label'] == 'right'):\n",
    "        loaded_model = load_model('./model/arrow_model_01.h5')\n",
    "\n",
    "        test_pred = loaded_model.predict(X_test)\n",
    "        for i, a in enumerate(test_pred[0]):\n",
    "            if a == test_pred.max():\n",
    "                if i == 0:\n",
    "                    arroow_result_list.append('d')\n",
    "                elif i == 1:\n",
    "                    arroow_result_list.append('l')\n",
    "                elif i == 2:\n",
    "                    arroow_result_list.append('r')\n",
    "                elif i == 3:\n",
    "                    arroow_result_list.append('u')\n",
    "        \n",
    "    else:\n",
    "        loaded_model = load_model('./model/number_model_01.h5')\n",
    "\n",
    "        test_pred = loaded_model.predict(X_test)\n",
    "        for i, a in enumerate(test_pred[0]):\n",
    "            if a == test_pred.max():\n",
    "                if i == 0:\n",
    "                    number_result_list.append(2)\n",
    "                elif i == 1:\n",
    "                    number_result_list.append(3)\n",
    "                elif i == 2:\n",
    "                    number_result_list.append(4)\n",
    "                elif i == 3:\n",
    "                    number_result_list.append(5)\n",
    "                    \n",
    "\n",
    "img_hsv = cv2.cvtColor(img, cv2.COLOR_RGB2HSV)\n",
    "\n",
    "for i in range(len(sorted_data)):\n",
    "    if i % 2 == 0:\n",
    "        if type(sorted_data[i]['label']) == str:\n",
    "            x = int(sorted_data[i]['cx'] + (sorted_data[i]['cx'] - sorted_data[i+1]['cx']) * 2)\n",
    "            y = int(sorted_data[i]['cy'] + (sorted_data[i]['cy'] - sorted_data[i+1]['cy']) * 2)\n",
    "            action_pixel = (y, x)\n",
    "        elif type(sorted_data[i]['label']) == int:\n",
    "            x = int(sorted_data[i+1]['cx'] + (sorted_data[i+1]['cx'] - sorted_data[i]['cx']) * 2)\n",
    "            y = int(sorted_data[i+1]['cy'] + (sorted_data[i+1]['cy'] - sorted_data[i]['cy']) * 2)\n",
    "            action_pixel = (y, x)\n",
    "            \n",
    "        if img_hsv[action_pixel][0] < 50:\n",
    "            action_result_list.append('Run')\n",
    "        elif img_hsv[action_pixel][0] < 115:\n",
    "            action_result_list.append('Hand')\n",
    "        else:\n",
    "            action_result_list.append('Jump')\n",
    "        \n"
   ]
  },
  {
   "cell_type": "code",
   "execution_count": 88,
   "metadata": {},
   "outputs": [
    {
     "data": {
      "text/plain": [
       "['Run', 'Jump', 'Hand']"
      ]
     },
     "execution_count": 88,
     "metadata": {},
     "output_type": "execute_result"
    }
   ],
   "source": [
    "action_result_list"
   ]
  },
  {
   "cell_type": "code",
   "execution_count": 89,
   "metadata": {},
   "outputs": [
    {
     "data": {
      "text/plain": [
       "(['d', 'l', 'l'], [3, 4, 5], ['Run', 'Jump', 'Hand'])"
      ]
     },
     "execution_count": 89,
     "metadata": {},
     "output_type": "execute_result"
    }
   ],
   "source": [
    "arroow_result_list, number_result_list, action_result_list"
   ]
  },
  {
   "cell_type": "code",
   "execution_count": 90,
   "metadata": {},
   "outputs": [],
   "source": [
    "response_data = {\n",
    "    \"direction\": arroow_result_list,\n",
    "    \"number\": number_result_list,\n",
    "    \"action\": action_result_list\n",
    "}"
   ]
  },
  {
   "cell_type": "code",
   "execution_count": 91,
   "metadata": {},
   "outputs": [
    {
     "data": {
      "text/plain": [
       "{'direction': ['d', 'l', 'l'],\n",
       " 'number': [3, 4, 5],\n",
       " 'action': ['Run', 'Jump', 'Hand']}"
      ]
     },
     "execution_count": 91,
     "metadata": {},
     "output_type": "execute_result"
    }
   ],
   "source": [
    "response_data"
   ]
  },
  {
   "cell_type": "code",
   "execution_count": null,
   "metadata": {},
   "outputs": [],
   "source": []
  },
  {
   "cell_type": "code",
   "execution_count": null,
   "metadata": {},
   "outputs": [],
   "source": []
  },
  {
   "cell_type": "code",
   "execution_count": null,
   "metadata": {},
   "outputs": [],
   "source": [
    "i = 0\n",
    "while i < len(sorted_data):\n",
    "    if type(sorted_data[i]['label']) == str:\n",
    "        x = int(sorted_data[i]['cx'] + (sorted_data[i]['cx'] - sorted_data[i+1]['cx']) * 2)\n",
    "        y = int(sorted_data[i]['cy'] + (sorted_data[i]['cy'] - sorted_data[i+1]['cy']) * 2)\n",
    "        action_pixel = (y, x)\n",
    "    elif type(sorted_data[0]['label']) == int:\n",
    "        x = int(sorted_data[i+1]['cx'] + (sorted_data[i+1]['cx'] - sorted_data[i]['cx']) * 2)\n",
    "        y = int(sorted_data[i+1]['cy'] + (sorted_data[i+1]['cy'] - sorted_data[i]['cy']) * 2)\n",
    "        action_pixel = (y, x)\n",
    "    action_result_list.append(action_pixel)    \n",
    "    i += 2"
   ]
  },
  {
   "cell_type": "code",
   "execution_count": null,
   "metadata": {},
   "outputs": [],
   "source": [
    "for i in range(len(sorted_data)):\n",
    "    if i % 2 == 0:\n",
    "        if type(sorted_data[i]['label']) == str:\n",
    "            x = int(sorted_data[i]['cx'] + (sorted_data[i]['cx'] - sorted_data[i+1]['cx']) * 2)\n",
    "            y = int(sorted_data[i]['cy'] + (sorted_data[i]['cy'] - sorted_data[i+1]['cy']) * 2)\n",
    "            action_pixel = (y, x)\n",
    "        elif type(sorted_data[0]['label']) == int:\n",
    "            x = int(sorted_data[i+1]['cx'] + (sorted_data[i+1]['cx'] - sorted_data[i]['cx']) * 2)\n",
    "            y = int(sorted_data[i+1]['cy'] + (sorted_data[i+1]['cy'] - sorted_data[i]['cy']) * 2)\n",
    "            action_pixel = (y, x)\n",
    "        action_result_list.append(action_pixel)"
   ]
  }
 ],
 "metadata": {
  "kernelspec": {
   "display_name": "base",
   "language": "python",
   "name": "python3"
  },
  "language_info": {
   "codemirror_mode": {
    "name": "ipython",
    "version": 3
   },
   "file_extension": ".py",
   "mimetype": "text/x-python",
   "name": "python",
   "nbconvert_exporter": "python",
   "pygments_lexer": "ipython3",
   "version": "3.10.9"
  }
 },
 "nbformat": 4,
 "nbformat_minor": 2
}
